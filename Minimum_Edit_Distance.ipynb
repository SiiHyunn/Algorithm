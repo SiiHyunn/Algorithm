{
 "cells": [
  {
   "cell_type": "code",
   "execution_count": 366,
   "id": "1652a387",
   "metadata": {},
   "outputs": [],
   "source": [
    "def clean_text(inputString): #특수문자(ex. \"\", !)을 없애기 위한 함수\n",
    "    text_rmv = re.sub('[-=+,#/\\?:^.@*\\\"※~ㆍ!』‘|\\(\\)\\[\\]`\\'…》\\”\\“\\’·]', '', inputString)\n",
    "    text_rmv = text_rmv.lower()\n",
    "    return text_rmv\n",
    "\n",
    "f=open('C:/Users/Python/The Snows of Kilimanjaro.txt', \"r\", encoding='UTF8')\n",
    "a = f.read()\n",
    "a = a.split() #단어 단위로 split\n",
    "words = []\n",
    "\n",
    "for i in  range(len(a)):\n",
    "    words.append(clean_text(a[i]))\n",
    "    \n",
    "words = set(words) #집합set으로 변환\n",
    "words = list(words) #list로 변환 : 중복을 지우기 위해서"
   ]
  },
  {
   "cell_type": "code",
   "execution_count": 367,
   "id": "0cf6c556",
   "metadata": {},
   "outputs": [],
   "source": [
    "def edit_dist(str1,str2):\n",
    "    n = len(str1)\n",
    "    m = len(str2)\n",
    "    dp = [[0] * (1+m) for _ in range(1+n)]\n",
    "    for i in range(1, n+1):\n",
    "        dp[i][0] = i\n",
    "    for j in range(1, m+1):\n",
    "        dp[0][j] = j\n",
    "    for i in range(1, n+1):\n",
    "        for j in range(1, m+1):\n",
    "            if str1[i-1] == str2[j-1]:\n",
    "                dp[i][j] = dp[i-1][j-1]\n",
    "            else:\n",
    "                dp[i][j] = min(dp[i][j-1], dp[i-1][j-1], dp[i-1][j]) + 1\n",
    "    return(dp[n][m])\n"
   ]
  },
  {
   "cell_type": "code",
   "execution_count": 368,
   "id": "1315ce34",
   "metadata": {},
   "outputs": [],
   "source": [
    "def three_mins(L):\n",
    "    \n",
    "    pos = []\n",
    "    \n",
    "    for x in range(10):\n",
    "        for i in range(len(L)):\n",
    "            if L[i] == x:\n",
    "                pos.append(i)\n",
    "    \n",
    "    return pos"
   ]
  },
  {
   "cell_type": "code",
   "execution_count": 388,
   "id": "e1e76642",
   "metadata": {
    "scrolled": false
   },
   "outputs": [
    {
     "name": "stdout",
     "output_type": "stream",
     "text": [
      "단어를 입력하세요: hello\n",
      "hello - 편집거리 : 0\n",
      "hell - 편집거리 : 1\n",
      "bell - 편집거리 : 2\n"
     ]
    }
   ],
   "source": [
    "dist_arr = []\n",
    "sorted_arr = []\n",
    "str1 = str(input('단어를 입력하세요: '))\n",
    "\n",
    "for i in range(len(words)):\n",
    "    num = edit_dist(words[i], str1)\n",
    "    dist_arr.append(num)\n",
    "\n",
    "sorted_arr = three_mins(dist_arr)\n",
    "word1 = words[sorted_arr[0]]\n",
    "word2 = words[sorted_arr[1]]\n",
    "word3 = words[sorted_arr[2]]\n",
    "\n",
    "dist1 = dist_arr[sorted_arr[0]]\n",
    "dist2 = dist_arr[sorted_arr[1]]\n",
    "dist3 = dist_arr[sorted_arr[2]]\n",
    "\n",
    "print(word1, '- 편집거리 :', dist1)\n",
    "print(word2, '- 편집거리 :', dist2)\n",
    "print(word3, '- 편집거리 :', dist3)"
   ]
  },
  {
   "cell_type": "code",
   "execution_count": null,
   "id": "0b5924ee",
   "metadata": {},
   "outputs": [],
   "source": []
  }
 ],
 "metadata": {
  "kernelspec": {
   "display_name": "Python 3",
   "language": "python",
   "name": "python3"
  },
  "language_info": {
   "codemirror_mode": {
    "name": "ipython",
    "version": 3
   },
   "file_extension": ".py",
   "mimetype": "text/x-python",
   "name": "python",
   "nbconvert_exporter": "python",
   "pygments_lexer": "ipython3",
   "version": "3.8.8"
  }
 },
 "nbformat": 4,
 "nbformat_minor": 5
}
